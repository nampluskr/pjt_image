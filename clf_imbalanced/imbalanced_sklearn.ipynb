{
 "cells": [
  {
   "cell_type": "markdown",
   "metadata": {},
   "source": [
    "# How to deal with Class Imbalance in Python\n",
    "\n",
    "* https://vitalflux.com/class-imbalance-class-weight-python-sklearn/"
   ]
  },
  {
   "cell_type": "code",
   "execution_count": 14,
   "metadata": {},
   "outputs": [],
   "source": [
    "import numpy as np\n",
    "from collections import Counter\n",
    "\n",
    "from sklearn.datasets import load_breast_cancer\n",
    "from sklearn.model_selection import train_test_split\n",
    "from sklearn.pipeline import make_pipeline\n",
    "from sklearn.preprocessing import StandardScaler\n",
    "from sklearn.linear_model import LogisticRegression\n",
    "\n",
    "cancer = load_breast_cancer()"
   ]
  },
  {
   "cell_type": "code",
   "execution_count": 8,
   "metadata": {},
   "outputs": [
    {
     "data": {
      "text/plain": [
       "((569, 30), (569,), Counter({0: 212, 1: 357}))"
      ]
     },
     "execution_count": 8,
     "metadata": {},
     "output_type": "execute_result"
    }
   ],
   "source": [
    "X, y = cancer.data, cancer.target\n",
    "\n",
    "X.shape, y.shape, Counter(y)"
   ]
  },
  {
   "cell_type": "code",
   "execution_count": 9,
   "metadata": {},
   "outputs": [
    {
     "data": {
      "text/plain": [
       "((387, 30), (387,), Counter({1: 357, 0: 30}))"
      ]
     },
     "execution_count": 9,
     "metadata": {},
     "output_type": "execute_result"
    }
   ],
   "source": [
    "X_imb = np.vstack((X[y == 1], X[y == 0][:30]))\n",
    "y_imb = np.hstack((y[y == 1], y[y == 0][:30]))\n",
    "\n",
    "X_imb.shape, y_imb.shape, Counter(y_imb)"
   ]
  },
  {
   "cell_type": "code",
   "execution_count": 13,
   "metadata": {},
   "outputs": [
    {
     "name": "stdout",
     "output_type": "stream",
     "text": [
      "(270, 30) Counter({1: 249, 0: 21})\n",
      "(117, 30) Counter({1: 108, 0: 9})\n"
     ]
    }
   ],
   "source": [
    "X_train, X_test, y_train, y_test = train_test_split(\n",
    "    X_imb, y_imb, test_size=0.3, random_state=1, stratify=y_imb)\n",
    "\n",
    "print(X_train.shape, Counter(y_train))\n",
    "print(X_test.shape, Counter(y_test))"
   ]
  },
  {
   "cell_type": "code",
   "execution_count": 21,
   "metadata": {},
   "outputs": [
    {
     "name": "stdout",
     "output_type": "stream",
     "text": [
      "Train Score: 0.9932\n",
      "Best Params: {'logisticregression__C': 15.87095951946739}\n",
      "Test Score: 1.0000\n"
     ]
    }
   ],
   "source": [
    "from scipy import stats\n",
    "from sklearn.model_selection import RandomizedSearchCV\n",
    "\n",
    "pipeline = make_pipeline(StandardScaler(), \n",
    "                         LogisticRegression(random_state=1, class_weight={0:3, 1:1}))\n",
    "param_dist = [{'logisticregression__C': stats.expon(scale=100)}]\n",
    "\n",
    "rs = RandomizedSearchCV(estimator=pipeline, param_distributions = param_dist, \n",
    "                        cv = 10, scoring = 'roc_auc', \n",
    "                        refit = True, n_jobs = 1,random_state=1)\n",
    "rs.fit(X_train, y_train)\n",
    "\n",
    "print('Train Score: %.4f' % rs.best_score_)\n",
    "print('Best Params:', rs.best_params_)\n",
    "print('Test Score: %.4f' % rs.score(X_test, y_test))"
   ]
  },
  {
   "cell_type": "code",
   "execution_count": 22,
   "metadata": {},
   "outputs": [
    {
     "data": {
      "text/plain": [
       "[<matplotlib.lines.Line2D at 0x7fd1d3c267f0>]"
      ]
     },
     "execution_count": 22,
     "metadata": {},
     "output_type": "execute_result"
    },
    {
     "data": {
      "image/png": "[encoded data removed]",
      "text/plain": [
       "<Figure size 432x288 with 1 Axes>"
      ]
     },
     "metadata": {
      "needs_background": "light"
     },
     "output_type": "display_data"
    }
   ],
   "source": [
    "import matplotlib.pyplot as plt\n",
    "\n",
    "expon = stats.expon(scale=100)\n",
    "x = np.linspace(expon.ppf(0.01), expon.ppf(0.99), 100)\n",
    "plt.plot(x, expon.pdf(x))"
   ]
  }
 ],
 "metadata": {
  "kernelspec": {
   "display_name": "Python 3.9.12 ('sklearn')",
   "language": "python",
   "name": "python3"
  },
  "language_info": {
   "codemirror_mode": {
    "name": "ipython",
    "version": 3
   },
   "file_extension": ".py",
   "mimetype": "text/x-python",
   "name": "python",
   "nbconvert_exporter": "python",
   "pygments_lexer": "ipython3",
   "version": "3.9.12"
  },
  "orig_nbformat": 4,
  "vscode": {
   "interpreter": {
    "hash": "bd17635c3af40ee0fb3fd7958713686f4f06110d6c9528018765bbaee056a989"
   }
  }
 },
 "nbformat": 4,
 "nbformat_minor": 2
}
